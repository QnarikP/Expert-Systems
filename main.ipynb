{
 "cells": [
  {
   "metadata": {
    "ExecuteTime": {
     "end_time": "2025-03-06T15:51:09.263094Z",
     "start_time": "2025-03-06T15:51:09.216968Z"
    }
   },
   "cell_type": "code",
   "source": "from graphviz import Digraph",
   "id": "b39914f0038a7ed6",
   "outputs": [],
   "execution_count": 1
  },
  {
   "metadata": {
    "ExecuteTime": {
     "end_time": "2025-03-06T15:51:31.634661Z",
     "start_time": "2025-03-06T15:51:31.629028Z"
    }
   },
   "cell_type": "code",
   "source": [
    "class KnowledgeBase:\n",
    "    def __init__(self):\n",
    "        # Store facts as a set and rules as a list\n",
    "        self.facts = set()\n",
    "        self.rules = []\n",
    "\n",
    "    def add_fact(self, fact):\n",
    "        self.facts.add(fact)\n",
    "\n",
    "    def add_rule(self, rule):\n",
    "        self.rules.append(rule)"
   ],
   "id": "4d0b0fafbe2864bb",
   "outputs": [],
   "execution_count": 2
  },
  {
   "metadata": {
    "ExecuteTime": {
     "end_time": "2025-03-06T15:51:41.401443Z",
     "start_time": "2025-03-06T15:51:41.396539Z"
    }
   },
   "cell_type": "code",
   "source": [
    "class Rule:\n",
    "    def __init__(self, conditions, conclusion):\n",
    "        \"\"\"\n",
    "        conditions: list of facts required for the rule to fire\n",
    "        conclusion: the fact to add if the conditions are met\n",
    "        \"\"\"\n",
    "        self.conditions = conditions\n",
    "        self.conclusion = conclusion\n",
    "\n",
    "    def is_applicable(self, facts):\n",
    "        # Check if every condition in the rule exists in the current set of facts\n",
    "        return all(condition in facts for condition in self.conditions)"
   ],
   "id": "4efdb9a4001b2a29",
   "outputs": [],
   "execution_count": 3
  },
  {
   "metadata": {
    "ExecuteTime": {
     "end_time": "2025-03-06T15:52:03.207762Z",
     "start_time": "2025-03-06T15:52:03.202021Z"
    }
   },
   "cell_type": "code",
   "source": [
    "class InferenceEngine:\n",
    "    def __init__(self, kb):\n",
    "        self.kb = kb\n",
    "\n",
    "    def forward_chain(self):\n",
    "        # Continue to apply rules until no new facts can be added\n",
    "        new_fact_added = True\n",
    "        while new_fact_added:\n",
    "            new_fact_added = False\n",
    "            for rule in self.kb.rules:\n",
    "                if rule.is_applicable(self.kb.facts) and rule.conclusion not in self.kb.facts:\n",
    "                    print(f\"Rule fired: IF {rule.conditions} THEN {rule.conclusion}\")\n",
    "                    self.kb.add_fact(rule.conclusion)\n",
    "                    new_fact_added = True"
   ],
   "id": "f38c5fd5a6d0c160",
   "outputs": [],
   "execution_count": 4
  },
  {
   "metadata": {
    "ExecuteTime": {
     "end_time": "2025-03-06T15:52:13.036059Z",
     "start_time": "2025-03-06T15:52:13.029648Z"
    }
   },
   "cell_type": "code",
   "source": [
    "class Visualizer:\n",
    "    def __init__(self, kb):\n",
    "        self.kb = kb\n",
    "\n",
    "    def visualize(self, filename='expert_system'):\n",
    "        dot = Digraph(comment=\"Expert System Knowledge Base\")\n",
    "        # Create nodes for all current facts (displayed as blue ellipses)\n",
    "        for fact in self.kb.facts:\n",
    "            dot.node(fact, fact, shape='ellipse', style='filled', fillcolor='lightblue')\n",
    "\n",
    "        # Create nodes for rules (displayed as grey boxes) and connect conditions to rules and rules to conclusions.\n",
    "        for i, rule in enumerate(self.kb.rules):\n",
    "            rule_node = f\"Rule_{i + 1}\"\n",
    "            rule_label = f\"IF\\n\" + \"\\nAND\\n\".join(rule.conditions) + f\"\\nTHEN\\n{rule.conclusion}\"\n",
    "            dot.node(rule_node, rule_label, shape='box', style='filled', fillcolor='lightgrey')\n",
    "            # Edge from each condition to the rule node\n",
    "            for cond in rule.conditions:\n",
    "                dot.edge(cond, rule_node)\n",
    "            # Edge from rule node to its conclusion\n",
    "            dot.edge(rule_node, rule.conclusion)\n",
    "\n",
    "        # Render the graph to a file (PNG) and open it\n",
    "        dot.render(filename, view=True, format='png')\n",
    "        return dot"
   ],
   "id": "5dfabbb37a4a1e1f",
   "outputs": [],
   "execution_count": 5
  },
  {
   "metadata": {
    "ExecuteTime": {
     "end_time": "2025-03-06T15:52:32.520435Z",
     "start_time": "2025-03-06T15:52:32.515799Z"
    }
   },
   "cell_type": "code",
   "source": "kb = KnowledgeBase()",
   "id": "9ce93c90a1459e45",
   "outputs": [],
   "execution_count": 6
  },
  {
   "metadata": {
    "ExecuteTime": {
     "end_time": "2025-03-06T15:52:43.769508Z",
     "start_time": "2025-03-06T15:52:43.765259Z"
    }
   },
   "cell_type": "code",
   "source": [
    "kb.add_fact(\"fever\")\n",
    "kb.add_fact(\"cough\")\n",
    "kb.add_fact(\"body_aches\")\n",
    "kb.add_fact(\"loss_of_taste\")\n",
    "kb.add_fact(\"sore_throat\")\n",
    "kb.add_fact(\"runny_nose\")\n",
    "kb.add_fact(\"mild_fever\")"
   ],
   "id": "1281b80a9bcf7f48",
   "outputs": [],
   "execution_count": 7
  },
  {
   "metadata": {
    "ExecuteTime": {
     "end_time": "2025-03-06T15:53:01.974011Z",
     "start_time": "2025-03-06T15:53:01.968896Z"
    }
   },
   "cell_type": "code",
   "source": [
    "# Rule 1: If a patient has fever and cough, then they are a possible flu case.\n",
    "rule1 = Rule([\"fever\", \"cough\"], \"possible_flu\")\n",
    "# Rule 2: If a patient has body aches and is a possible flu case, then diagnose flu.\n",
    "rule2 = Rule([\"body_aches\", \"possible_flu\"], \"diagnose_flu\")\n",
    "# Rule 3: If a patient has fever and loss of taste, then they are a possible COVID case.\n",
    "rule3 = Rule([\"fever\", \"loss_of_taste\"], \"possible_covid\")\n",
    "# Rule 4: If a patient has cough and loss of taste, then they are also a possible COVID case.\n",
    "rule4 = Rule([\"cough\", \"loss_of_taste\"], \"possible_covid\")\n",
    "# Rule 5: If a patient has a sore throat and runny nose, then they are a possible cold case.\n",
    "rule5 = Rule([\"sore_throat\", \"runny_nose\"], \"possible_cold\")\n",
    "# Rule 6: If a patient is a possible COVID case and has loss of taste, then diagnose COVID.\n",
    "rule6 = Rule([\"possible_covid\", \"loss_of_taste\"], \"diagnose_covid\")\n",
    "# Rule 7: If a patient is a possible cold case and has mild fever, then diagnose cold.\n",
    "rule7 = Rule([\"possible_cold\", \"mild_fever\"], \"diagnose_cold\")"
   ],
   "id": "93abb432299765e8",
   "outputs": [],
   "execution_count": 8
  },
  {
   "metadata": {
    "ExecuteTime": {
     "end_time": "2025-03-06T15:53:13.348024Z",
     "start_time": "2025-03-06T15:53:13.344237Z"
    }
   },
   "cell_type": "code",
   "source": [
    "# Add all rules to the knowledge base\n",
    "kb.add_rule(rule1)\n",
    "kb.add_rule(rule2)\n",
    "kb.add_rule(rule3)\n",
    "kb.add_rule(rule4)\n",
    "kb.add_rule(rule5)\n",
    "kb.add_rule(rule6)\n",
    "kb.add_rule(rule7)"
   ],
   "id": "10921c225fe6e911",
   "outputs": [],
   "execution_count": 9
  },
  {
   "metadata": {
    "ExecuteTime": {
     "end_time": "2025-03-06T15:53:35.414985Z",
     "start_time": "2025-03-06T15:53:35.410121Z"
    }
   },
   "cell_type": "code",
   "source": [
    "# Create and run the inference engine (using forward chaining)\n",
    "engine = InferenceEngine(kb)\n",
    "engine.forward_chain()"
   ],
   "id": "bd4486ce9a441cf4",
   "outputs": [
    {
     "name": "stdout",
     "output_type": "stream",
     "text": [
      "Rule fired: IF ['fever', 'cough'] THEN possible_flu\n",
      "Rule fired: IF ['body_aches', 'possible_flu'] THEN diagnose_flu\n",
      "Rule fired: IF ['fever', 'loss_of_taste'] THEN possible_covid\n",
      "Rule fired: IF ['sore_throat', 'runny_nose'] THEN possible_cold\n",
      "Rule fired: IF ['possible_covid', 'loss_of_taste'] THEN diagnose_covid\n",
      "Rule fired: IF ['possible_cold', 'mild_fever'] THEN diagnose_cold\n"
     ]
    }
   ],
   "execution_count": 10
  },
  {
   "metadata": {
    "ExecuteTime": {
     "end_time": "2025-03-06T15:53:45.161582Z",
     "start_time": "2025-03-06T15:53:45.156645Z"
    }
   },
   "cell_type": "code",
   "source": [
    "# Print all facts that have been inferred\n",
    "print(\"\\nFinal Facts in the Knowledge Base:\")\n",
    "for fact in kb.facts:\n",
    "    print(\"-\", fact)"
   ],
   "id": "759c8f7ecc9a426d",
   "outputs": [
    {
     "name": "stdout",
     "output_type": "stream",
     "text": [
      "\n",
      "Final Facts in the Knowledge Base:\n",
      "- diagnose_cold\n",
      "- cough\n",
      "- diagnose_flu\n",
      "- body_aches\n",
      "- possible_flu\n",
      "- loss_of_taste\n",
      "- runny_nose\n",
      "- possible_cold\n",
      "- sore_throat\n",
      "- possible_covid\n",
      "- mild_fever\n",
      "- fever\n",
      "- diagnose_covid\n"
     ]
    }
   ],
   "execution_count": 11
  },
  {
   "metadata": {
    "ExecuteTime": {
     "end_time": "2025-03-06T15:53:49.929683Z",
     "start_time": "2025-03-06T15:53:46.806960Z"
    }
   },
   "cell_type": "code",
   "source": [
    "# Visualize the knowledge base with Graphviz\n",
    "visualizer = Visualizer(kb)\n",
    "visualizer.visualize(\"expert_system_visualization\")"
   ],
   "id": "18f0c67852d4087c",
   "outputs": [
    {
     "data": {
      "image/svg+xml": "<?xml version=\"1.0\" encoding=\"UTF-8\" standalone=\"no\"?>\n<!DOCTYPE svg PUBLIC \"-//W3C//DTD SVG 1.1//EN\"\n \"http://www.w3.org/Graphics/SVG/1.1/DTD/svg11.dtd\">\n<!-- Generated by graphviz version 12.2.1 (20241206.2353)\n -->\n<!-- Pages: 1 -->\n<svg width=\"829pt\" height=\"474pt\"\n viewBox=\"0.00 0.00 828.66 474.00\" xmlns=\"http://www.w3.org/2000/svg\" xmlns:xlink=\"http://www.w3.org/1999/xlink\">\n<g id=\"graph0\" class=\"graph\" transform=\"scale(1 1) rotate(0) translate(4 470)\">\n<polygon fill=\"white\" stroke=\"none\" points=\"-4,4 -4,-470 824.66,-470 824.66,4 -4,4\"/>\n<!-- diagnose_cold -->\n<g id=\"node1\" class=\"node\">\n<title>diagnose_cold</title>\n<ellipse fill=\"lightblue\" stroke=\"black\" cx=\"172.91\" cy=\"-18\" rx=\"64.15\" ry=\"18\"/>\n<text text-anchor=\"middle\" x=\"172.91\" y=\"-12.95\" font-family=\"Times New Roman,serif\" font-size=\"14.00\">diagnose_cold</text>\n</g>\n<!-- cough -->\n<g id=\"node2\" class=\"node\">\n<title>cough</title>\n<ellipse fill=\"lightblue\" stroke=\"black\" cx=\"603.91\" cy=\"-448\" rx=\"33.44\" ry=\"18\"/>\n<text text-anchor=\"middle\" x=\"603.91\" y=\"-442.95\" font-family=\"Times New Roman,serif\" font-size=\"14.00\">cough</text>\n</g>\n<!-- Rule_1 -->\n<g id=\"node14\" class=\"node\">\n<title>Rule_1</title>\n<polygon fill=\"lightgrey\" stroke=\"black\" points=\"539.91,-394 457.91,-394 457.91,-287 539.91,-287 539.91,-394\"/>\n<text text-anchor=\"middle\" x=\"498.91\" y=\"-376.7\" font-family=\"Times New Roman,serif\" font-size=\"14.00\">IF</text>\n<text text-anchor=\"middle\" x=\"498.91\" y=\"-360.2\" font-family=\"Times New Roman,serif\" font-size=\"14.00\">fever</text>\n<text text-anchor=\"middle\" x=\"498.91\" y=\"-343.7\" font-family=\"Times New Roman,serif\" font-size=\"14.00\">AND</text>\n<text text-anchor=\"middle\" x=\"498.91\" y=\"-327.2\" font-family=\"Times New Roman,serif\" font-size=\"14.00\">cough</text>\n<text text-anchor=\"middle\" x=\"498.91\" y=\"-310.7\" font-family=\"Times New Roman,serif\" font-size=\"14.00\">THEN</text>\n<text text-anchor=\"middle\" x=\"498.91\" y=\"-294.2\" font-family=\"Times New Roman,serif\" font-size=\"14.00\">possible_flu</text>\n</g>\n<!-- cough&#45;&gt;Rule_1 -->\n<g id=\"edge2\" class=\"edge\">\n<title>cough&#45;&gt;Rule_1</title>\n<path fill=\"none\" stroke=\"black\" d=\"M588.22,-431.79C577.39,-421.25 562.7,-406.85 549.91,-394 549.32,-393.41 548.73,-392.81 548.14,-392.21\"/>\n<polygon fill=\"black\" stroke=\"black\" points=\"550.88,-390.01 541.36,-385.35 545.9,-394.93 550.88,-390.01\"/>\n</g>\n<!-- Rule_4 -->\n<g id=\"node17\" class=\"node\">\n<title>Rule_4</title>\n<polygon fill=\"lightgrey\" stroke=\"black\" points=\"770.41,-394 673.41,-394 673.41,-287 770.41,-287 770.41,-394\"/>\n<text text-anchor=\"middle\" x=\"721.91\" y=\"-376.7\" font-family=\"Times New Roman,serif\" font-size=\"14.00\">IF</text>\n<text text-anchor=\"middle\" x=\"721.91\" y=\"-360.2\" font-family=\"Times New Roman,serif\" font-size=\"14.00\">cough</text>\n<text text-anchor=\"middle\" x=\"721.91\" y=\"-343.7\" font-family=\"Times New Roman,serif\" font-size=\"14.00\">AND</text>\n<text text-anchor=\"middle\" x=\"721.91\" y=\"-327.2\" font-family=\"Times New Roman,serif\" font-size=\"14.00\">loss_of_taste</text>\n<text text-anchor=\"middle\" x=\"721.91\" y=\"-310.7\" font-family=\"Times New Roman,serif\" font-size=\"14.00\">THEN</text>\n<text text-anchor=\"middle\" x=\"721.91\" y=\"-294.2\" font-family=\"Times New Roman,serif\" font-size=\"14.00\">possible_covid</text>\n</g>\n<!-- cough&#45;&gt;Rule_4 -->\n<g id=\"edge10\" class=\"edge\">\n<title>cough&#45;&gt;Rule_4</title>\n<path fill=\"none\" stroke=\"black\" d=\"M621.12,-432.28C631.87,-423.04 646.13,-410.69 664.87,-393.99\"/>\n<polygon fill=\"black\" stroke=\"black\" points=\"666.93,-396.84 672.05,-387.57 662.26,-391.62 666.93,-396.84\"/>\n</g>\n<!-- diagnose_flu -->\n<g id=\"node3\" class=\"node\">\n<title>diagnose_flu</title>\n<ellipse fill=\"lightblue\" stroke=\"black\" cx=\"434.91\" cy=\"-18\" rx=\"58.52\" ry=\"18\"/>\n<text text-anchor=\"middle\" x=\"434.91\" y=\"-12.95\" font-family=\"Times New Roman,serif\" font-size=\"14.00\">diagnose_flu</text>\n</g>\n<!-- body_aches -->\n<g id=\"node4\" class=\"node\">\n<title>body_aches</title>\n<ellipse fill=\"lightblue\" stroke=\"black\" cx=\"370.91\" cy=\"-233\" rx=\"54.42\" ry=\"18\"/>\n<text text-anchor=\"middle\" x=\"370.91\" y=\"-227.95\" font-family=\"Times New Roman,serif\" font-size=\"14.00\">body_aches</text>\n</g>\n<!-- Rule_2 -->\n<g id=\"node15\" class=\"node\">\n<title>Rule_2</title>\n<polygon fill=\"lightgrey\" stroke=\"black\" points=\"477.79,-179 392.04,-179 392.04,-72 477.79,-72 477.79,-179\"/>\n<text text-anchor=\"middle\" x=\"434.91\" y=\"-161.7\" font-family=\"Times New Roman,serif\" font-size=\"14.00\">IF</text>\n<text text-anchor=\"middle\" x=\"434.91\" y=\"-145.2\" font-family=\"Times New Roman,serif\" font-size=\"14.00\">body_aches</text>\n<text text-anchor=\"middle\" x=\"434.91\" y=\"-128.7\" font-family=\"Times New Roman,serif\" font-size=\"14.00\">AND</text>\n<text text-anchor=\"middle\" x=\"434.91\" y=\"-112.2\" font-family=\"Times New Roman,serif\" font-size=\"14.00\">possible_flu</text>\n<text text-anchor=\"middle\" x=\"434.91\" y=\"-95.7\" font-family=\"Times New Roman,serif\" font-size=\"14.00\">THEN</text>\n<text text-anchor=\"middle\" x=\"434.91\" y=\"-79.2\" font-family=\"Times New Roman,serif\" font-size=\"14.00\">diagnose_flu</text>\n</g>\n<!-- body_aches&#45;&gt;Rule_2 -->\n<g id=\"edge4\" class=\"edge\">\n<title>body_aches&#45;&gt;Rule_2</title>\n<path fill=\"none\" stroke=\"black\" d=\"M381.19,-215.05C385.65,-207.71 391.16,-198.62 396.94,-189.09\"/>\n<polygon fill=\"black\" stroke=\"black\" points=\"399.81,-191.11 402,-180.75 393.82,-187.48 399.81,-191.11\"/>\n</g>\n<!-- possible_flu -->\n<g id=\"node5\" class=\"node\">\n<title>possible_flu</title>\n<ellipse fill=\"lightblue\" stroke=\"black\" cx=\"498.91\" cy=\"-233\" rx=\"55.96\" ry=\"18\"/>\n<text text-anchor=\"middle\" x=\"498.91\" y=\"-227.95\" font-family=\"Times New Roman,serif\" font-size=\"14.00\">possible_flu</text>\n</g>\n<!-- possible_flu&#45;&gt;Rule_2 -->\n<g id=\"edge5\" class=\"edge\">\n<title>possible_flu&#45;&gt;Rule_2</title>\n<path fill=\"none\" stroke=\"black\" d=\"M488.63,-215.05C484.18,-207.71 478.66,-198.62 472.88,-189.09\"/>\n<polygon fill=\"black\" stroke=\"black\" points=\"476,-187.48 467.82,-180.75 470.01,-191.11 476,-187.48\"/>\n</g>\n<!-- loss_of_taste -->\n<g id=\"node6\" class=\"node\">\n<title>loss_of_taste</title>\n<ellipse fill=\"lightblue\" stroke=\"black\" cx=\"721.91\" cy=\"-448\" rx=\"59.03\" ry=\"18\"/>\n<text text-anchor=\"middle\" x=\"721.91\" y=\"-442.95\" font-family=\"Times New Roman,serif\" font-size=\"14.00\">loss_of_taste</text>\n</g>\n<!-- Rule_3 -->\n<g id=\"node16\" class=\"node\">\n<title>Rule_3</title>\n<polygon fill=\"lightgrey\" stroke=\"black\" points=\"655.41,-394 558.41,-394 558.41,-287 655.41,-287 655.41,-394\"/>\n<text text-anchor=\"middle\" x=\"606.91\" y=\"-376.7\" font-family=\"Times New Roman,serif\" font-size=\"14.00\">IF</text>\n<text text-anchor=\"middle\" x=\"606.91\" y=\"-360.2\" font-family=\"Times New Roman,serif\" font-size=\"14.00\">fever</text>\n<text text-anchor=\"middle\" x=\"606.91\" y=\"-343.7\" font-family=\"Times New Roman,serif\" font-size=\"14.00\">AND</text>\n<text text-anchor=\"middle\" x=\"606.91\" y=\"-327.2\" font-family=\"Times New Roman,serif\" font-size=\"14.00\">loss_of_taste</text>\n<text text-anchor=\"middle\" x=\"606.91\" y=\"-310.7\" font-family=\"Times New Roman,serif\" font-size=\"14.00\">THEN</text>\n<text text-anchor=\"middle\" x=\"606.91\" y=\"-294.2\" font-family=\"Times New Roman,serif\" font-size=\"14.00\">possible_covid</text>\n</g>\n<!-- loss_of_taste&#45;&gt;Rule_3 -->\n<g id=\"edge8\" class=\"edge\">\n<title>loss_of_taste&#45;&gt;Rule_3</title>\n<path fill=\"none\" stroke=\"black\" d=\"M703.94,-430.52C693.12,-420.58 678.67,-407.33 664.23,-394.09\"/>\n<polygon fill=\"black\" stroke=\"black\" points=\"666.61,-391.52 656.88,-387.34 661.88,-396.68 666.61,-391.52\"/>\n</g>\n<!-- loss_of_taste&#45;&gt;Rule_4 -->\n<g id=\"edge11\" class=\"edge\">\n<title>loss_of_taste&#45;&gt;Rule_4</title>\n<path fill=\"none\" stroke=\"black\" d=\"M721.91,-429.58C721.91,-422.75 721.91,-414.45 721.91,-405.72\"/>\n<polygon fill=\"black\" stroke=\"black\" points=\"725.41,-406.01 721.91,-396.01 718.41,-406.01 725.41,-406.01\"/>\n</g>\n<!-- Rule_6 -->\n<g id=\"node19\" class=\"node\">\n<title>Rule_6</title>\n<polygon fill=\"lightgrey\" stroke=\"black\" points=\"802.29,-179 701.54,-179 701.54,-72 802.29,-72 802.29,-179\"/>\n<text text-anchor=\"middle\" x=\"751.91\" y=\"-161.7\" font-family=\"Times New Roman,serif\" font-size=\"14.00\">IF</text>\n<text text-anchor=\"middle\" x=\"751.91\" y=\"-145.2\" font-family=\"Times New Roman,serif\" font-size=\"14.00\">possible_covid</text>\n<text text-anchor=\"middle\" x=\"751.91\" y=\"-128.7\" font-family=\"Times New Roman,serif\" font-size=\"14.00\">AND</text>\n<text text-anchor=\"middle\" x=\"751.91\" y=\"-112.2\" font-family=\"Times New Roman,serif\" font-size=\"14.00\">loss_of_taste</text>\n<text text-anchor=\"middle\" x=\"751.91\" y=\"-95.7\" font-family=\"Times New Roman,serif\" font-size=\"14.00\">THEN</text>\n<text text-anchor=\"middle\" x=\"751.91\" y=\"-79.2\" font-family=\"Times New Roman,serif\" font-size=\"14.00\">diagnose_covid</text>\n</g>\n<!-- loss_of_taste&#45;&gt;Rule_6 -->\n<g id=\"edge17\" class=\"edge\">\n<title>loss_of_taste&#45;&gt;Rule_6</title>\n<path fill=\"none\" stroke=\"black\" d=\"M747.13,-431.38C759.49,-422.19 773.14,-409.35 779.91,-394 808.65,-328.81 793.18,-246.3 776,-190.28\"/>\n<polygon fill=\"black\" stroke=\"black\" points=\"779.38,-189.35 773.01,-180.88 772.71,-191.47 779.38,-189.35\"/>\n</g>\n<!-- runny_nose -->\n<g id=\"node7\" class=\"node\">\n<title>runny_nose</title>\n<ellipse fill=\"lightblue\" stroke=\"black\" cx=\"53.91\" cy=\"-448\" rx=\"53.91\" ry=\"18\"/>\n<text text-anchor=\"middle\" x=\"53.91\" y=\"-442.95\" font-family=\"Times New Roman,serif\" font-size=\"14.00\">runny_nose</text>\n</g>\n<!-- Rule_5 -->\n<g id=\"node18\" class=\"node\">\n<title>Rule_5</title>\n<polygon fill=\"lightgrey\" stroke=\"black\" points=\"161.04,-394 70.79,-394 70.79,-287 161.04,-287 161.04,-394\"/>\n<text text-anchor=\"middle\" x=\"115.91\" y=\"-376.7\" font-family=\"Times New Roman,serif\" font-size=\"14.00\">IF</text>\n<text text-anchor=\"middle\" x=\"115.91\" y=\"-360.2\" font-family=\"Times New Roman,serif\" font-size=\"14.00\">sore_throat</text>\n<text text-anchor=\"middle\" x=\"115.91\" y=\"-343.7\" font-family=\"Times New Roman,serif\" font-size=\"14.00\">AND</text>\n<text text-anchor=\"middle\" x=\"115.91\" y=\"-327.2\" font-family=\"Times New Roman,serif\" font-size=\"14.00\">runny_nose</text>\n<text text-anchor=\"middle\" x=\"115.91\" y=\"-310.7\" font-family=\"Times New Roman,serif\" font-size=\"14.00\">THEN</text>\n<text text-anchor=\"middle\" x=\"115.91\" y=\"-294.2\" font-family=\"Times New Roman,serif\" font-size=\"14.00\">possible_cold</text>\n</g>\n<!-- runny_nose&#45;&gt;Rule_5 -->\n<g id=\"edge14\" class=\"edge\">\n<title>runny_nose&#45;&gt;Rule_5</title>\n<path fill=\"none\" stroke=\"black\" d=\"M63.87,-430.05C68.18,-422.71 73.53,-413.62 79.13,-404.09\"/>\n<polygon fill=\"black\" stroke=\"black\" points=\"81.98,-406.15 84.02,-395.76 75.94,-402.61 81.98,-406.15\"/>\n</g>\n<!-- possible_cold -->\n<g id=\"node8\" class=\"node\">\n<title>possible_cold</title>\n<ellipse fill=\"lightblue\" stroke=\"black\" cx=\"115.91\" cy=\"-233\" rx=\"61.59\" ry=\"18\"/>\n<text text-anchor=\"middle\" x=\"115.91\" y=\"-227.95\" font-family=\"Times New Roman,serif\" font-size=\"14.00\">possible_cold</text>\n</g>\n<!-- Rule_7 -->\n<g id=\"node20\" class=\"node\">\n<title>Rule_7</title>\n<polygon fill=\"lightgrey\" stroke=\"black\" points=\"219.91,-179 125.91,-179 125.91,-72 219.91,-72 219.91,-179\"/>\n<text text-anchor=\"middle\" x=\"172.91\" y=\"-161.7\" font-family=\"Times New Roman,serif\" font-size=\"14.00\">IF</text>\n<text text-anchor=\"middle\" x=\"172.91\" y=\"-145.2\" font-family=\"Times New Roman,serif\" font-size=\"14.00\">possible_cold</text>\n<text text-anchor=\"middle\" x=\"172.91\" y=\"-128.7\" font-family=\"Times New Roman,serif\" font-size=\"14.00\">AND</text>\n<text text-anchor=\"middle\" x=\"172.91\" y=\"-112.2\" font-family=\"Times New Roman,serif\" font-size=\"14.00\">mild_fever</text>\n<text text-anchor=\"middle\" x=\"172.91\" y=\"-95.7\" font-family=\"Times New Roman,serif\" font-size=\"14.00\">THEN</text>\n<text text-anchor=\"middle\" x=\"172.91\" y=\"-79.2\" font-family=\"Times New Roman,serif\" font-size=\"14.00\">diagnose_cold</text>\n</g>\n<!-- possible_cold&#45;&gt;Rule_7 -->\n<g id=\"edge19\" class=\"edge\">\n<title>possible_cold&#45;&gt;Rule_7</title>\n<path fill=\"none\" stroke=\"black\" d=\"M125.07,-215.05C128.99,-207.79 133.84,-198.81 138.93,-189.38\"/>\n<polygon fill=\"black\" stroke=\"black\" points=\"141.91,-191.25 143.58,-180.78 135.75,-187.92 141.91,-191.25\"/>\n</g>\n<!-- sore_throat -->\n<g id=\"node9\" class=\"node\">\n<title>sore_throat</title>\n<ellipse fill=\"lightblue\" stroke=\"black\" cx=\"177.91\" cy=\"-448\" rx=\"52.38\" ry=\"18\"/>\n<text text-anchor=\"middle\" x=\"177.91\" y=\"-442.95\" font-family=\"Times New Roman,serif\" font-size=\"14.00\">sore_throat</text>\n</g>\n<!-- sore_throat&#45;&gt;Rule_5 -->\n<g id=\"edge13\" class=\"edge\">\n<title>sore_throat&#45;&gt;Rule_5</title>\n<path fill=\"none\" stroke=\"black\" d=\"M167.95,-430.05C163.64,-422.71 158.29,-413.62 152.69,-404.09\"/>\n<polygon fill=\"black\" stroke=\"black\" points=\"155.88,-402.61 147.8,-395.76 149.85,-406.15 155.88,-402.61\"/>\n</g>\n<!-- possible_covid -->\n<g id=\"node10\" class=\"node\">\n<title>possible_covid</title>\n<ellipse fill=\"lightblue\" stroke=\"black\" cx=\"704.91\" cy=\"-233\" rx=\"66.19\" ry=\"18\"/>\n<text text-anchor=\"middle\" x=\"704.91\" y=\"-227.95\" font-family=\"Times New Roman,serif\" font-size=\"14.00\">possible_covid</text>\n</g>\n<!-- possible_covid&#45;&gt;Rule_6 -->\n<g id=\"edge16\" class=\"edge\">\n<title>possible_covid&#45;&gt;Rule_6</title>\n<path fill=\"none\" stroke=\"black\" d=\"M712.46,-215.05C715.66,-207.86 719.61,-199 723.76,-189.68\"/>\n<polygon fill=\"black\" stroke=\"black\" points=\"726.83,-191.39 727.7,-180.84 720.44,-188.55 726.83,-191.39\"/>\n</g>\n<!-- mild_fever -->\n<g id=\"node11\" class=\"node\">\n<title>mild_fever</title>\n<ellipse fill=\"lightblue\" stroke=\"black\" cx=\"246.91\" cy=\"-233\" rx=\"51.86\" ry=\"18\"/>\n<text text-anchor=\"middle\" x=\"246.91\" y=\"-227.95\" font-family=\"Times New Roman,serif\" font-size=\"14.00\">mild_fever</text>\n</g>\n<!-- mild_fever&#45;&gt;Rule_7 -->\n<g id=\"edge20\" class=\"edge\">\n<title>mild_fever&#45;&gt;Rule_7</title>\n<path fill=\"none\" stroke=\"black\" d=\"M235.02,-215.05C229.82,-207.63 223.36,-198.43 216.6,-188.79\"/>\n<polygon fill=\"black\" stroke=\"black\" points=\"219.53,-186.87 210.92,-180.69 213.8,-190.89 219.53,-186.87\"/>\n</g>\n<!-- fever -->\n<g id=\"node12\" class=\"node\">\n<title>fever</title>\n<ellipse fill=\"lightblue\" stroke=\"black\" cx=\"506.91\" cy=\"-448\" rx=\"29.86\" ry=\"18\"/>\n<text text-anchor=\"middle\" x=\"506.91\" y=\"-442.95\" font-family=\"Times New Roman,serif\" font-size=\"14.00\">fever</text>\n</g>\n<!-- fever&#45;&gt;Rule_1 -->\n<g id=\"edge1\" class=\"edge\">\n<title>fever&#45;&gt;Rule_1</title>\n<path fill=\"none\" stroke=\"black\" d=\"M505.59,-429.58C505.07,-422.75 504.44,-414.45 503.78,-405.72\"/>\n<polygon fill=\"black\" stroke=\"black\" points=\"507.29,-405.71 503.04,-396.01 500.31,-406.24 507.29,-405.71\"/>\n</g>\n<!-- fever&#45;&gt;Rule_3 -->\n<g id=\"edge7\" class=\"edge\">\n<title>fever&#45;&gt;Rule_3</title>\n<path fill=\"none\" stroke=\"black\" d=\"M521.24,-431.88C529.15,-423.54 539.54,-412.57 550.35,-401.17\"/>\n<polygon fill=\"black\" stroke=\"black\" points=\"552.89,-403.58 557.23,-393.92 547.81,-398.77 552.89,-403.58\"/>\n</g>\n<!-- diagnose_covid -->\n<g id=\"node13\" class=\"node\">\n<title>diagnose_covid</title>\n<ellipse fill=\"lightblue\" stroke=\"black\" cx=\"751.91\" cy=\"-18\" rx=\"68.75\" ry=\"18\"/>\n<text text-anchor=\"middle\" x=\"751.91\" y=\"-12.95\" font-family=\"Times New Roman,serif\" font-size=\"14.00\">diagnose_covid</text>\n</g>\n<!-- Rule_1&#45;&gt;possible_flu -->\n<g id=\"edge3\" class=\"edge\">\n<title>Rule_1&#45;&gt;possible_flu</title>\n<path fill=\"none\" stroke=\"black\" d=\"M498.91,-286.75C498.91,-278.47 498.91,-270.18 498.91,-262.72\"/>\n<polygon fill=\"black\" stroke=\"black\" points=\"502.41,-262.93 498.91,-252.93 495.41,-262.93 502.41,-262.93\"/>\n</g>\n<!-- Rule_2&#45;&gt;diagnose_flu -->\n<g id=\"edge6\" class=\"edge\">\n<title>Rule_2&#45;&gt;diagnose_flu</title>\n<path fill=\"none\" stroke=\"black\" d=\"M434.91,-71.75C434.91,-63.47 434.91,-55.18 434.91,-47.72\"/>\n<polygon fill=\"black\" stroke=\"black\" points=\"438.41,-47.93 434.91,-37.93 431.41,-47.93 438.41,-47.93\"/>\n</g>\n<!-- Rule_3&#45;&gt;possible_covid -->\n<g id=\"edge9\" class=\"edge\">\n<title>Rule_3&#45;&gt;possible_covid</title>\n<path fill=\"none\" stroke=\"black\" d=\"M655.91,-286.75C664.86,-277.12 673.81,-267.48 681.57,-259.13\"/>\n<polygon fill=\"black\" stroke=\"black\" points=\"683.89,-261.77 688.13,-252.06 678.76,-257 683.89,-261.77\"/>\n</g>\n<!-- Rule_4&#45;&gt;possible_covid -->\n<g id=\"edge12\" class=\"edge\">\n<title>Rule_4&#45;&gt;possible_covid</title>\n<path fill=\"none\" stroke=\"black\" d=\"M713.41,-286.75C712.08,-278.47 710.74,-270.18 709.54,-262.72\"/>\n<polygon fill=\"black\" stroke=\"black\" points=\"713,-262.23 707.96,-252.92 706.09,-263.34 713,-262.23\"/>\n</g>\n<!-- Rule_5&#45;&gt;possible_cold -->\n<g id=\"edge15\" class=\"edge\">\n<title>Rule_5&#45;&gt;possible_cold</title>\n<path fill=\"none\" stroke=\"black\" d=\"M115.91,-286.75C115.91,-278.47 115.91,-270.18 115.91,-262.72\"/>\n<polygon fill=\"black\" stroke=\"black\" points=\"119.41,-262.93 115.91,-252.93 112.41,-262.93 119.41,-262.93\"/>\n</g>\n<!-- Rule_6&#45;&gt;diagnose_covid -->\n<g id=\"edge18\" class=\"edge\">\n<title>Rule_6&#45;&gt;diagnose_covid</title>\n<path fill=\"none\" stroke=\"black\" d=\"M751.91,-71.75C751.91,-63.47 751.91,-55.18 751.91,-47.72\"/>\n<polygon fill=\"black\" stroke=\"black\" points=\"755.41,-47.93 751.91,-37.93 748.41,-47.93 755.41,-47.93\"/>\n</g>\n<!-- Rule_7&#45;&gt;diagnose_cold -->\n<g id=\"edge21\" class=\"edge\">\n<title>Rule_7&#45;&gt;diagnose_cold</title>\n<path fill=\"none\" stroke=\"black\" d=\"M172.91,-71.75C172.91,-63.47 172.91,-55.18 172.91,-47.72\"/>\n<polygon fill=\"black\" stroke=\"black\" points=\"176.41,-47.93 172.91,-37.93 169.41,-47.93 176.41,-47.93\"/>\n</g>\n</g>\n</svg>\n",
      "text/plain": [
       "<graphviz.graphs.Digraph at 0x1d8f7935940>"
      ]
     },
     "execution_count": 12,
     "metadata": {},
     "output_type": "execute_result"
    }
   ],
   "execution_count": 12
  },
  {
   "metadata": {},
   "cell_type": "code",
   "outputs": [],
   "execution_count": null,
   "source": "",
   "id": "faa48bc454b8dbbc"
  }
 ],
 "metadata": {
  "kernelspec": {
   "display_name": "Python 3",
   "language": "python",
   "name": "python3"
  },
  "language_info": {
   "codemirror_mode": {
    "name": "ipython",
    "version": 2
   },
   "file_extension": ".py",
   "mimetype": "text/x-python",
   "name": "python",
   "nbconvert_exporter": "python",
   "pygments_lexer": "ipython2",
   "version": "2.7.6"
  }
 },
 "nbformat": 4,
 "nbformat_minor": 5
}
